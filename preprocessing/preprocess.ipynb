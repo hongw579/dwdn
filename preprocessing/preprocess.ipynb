{
 "cells": [
  {
   "cell_type": "code",
   "execution_count": 307,
   "metadata": {},
   "outputs": [],
   "source": [
    "import numpy as np\n",
    "from PIL import Image\n",
    "import matplotlib.pyplot as plt\n",
    "\n",
    "image_all = np.load('data_raw_10000.npz')\n",
    "kernel = image_all['arr_0'][:,0,:,:]\n",
    "true = image_all['arr_0'][:,2,:,:]\n",
    "blur = image_all['arr_0'][:,1,:,:]\n"
   ]
  },
  {
   "cell_type": "code",
   "execution_count": 308,
   "metadata": {},
   "outputs": [
    {
     "data": {
      "text/plain": [
       "(10000, 6, 3, 35, 35)"
      ]
     },
     "execution_count": 308,
     "metadata": {},
     "output_type": "execute_result"
    }
   ],
   "source": [
    "blur_max = np.absolute(blur).max(axis=-1).max(axis=-1).max(axis=-1)\n",
    "true_max = np.absolute(true).max(axis=-1).max(axis=-1).max(axis=-1)\n",
    "maximum = np.maximum(blur_max, true_max)\n",
    "image_all['arr_0'].shape"
   ]
  },
  {
   "cell_type": "code",
   "execution_count": 309,
   "metadata": {},
   "outputs": [
    {
     "data": {
      "text/plain": [
       "(array([1.000e+00, 7.000e+00, 1.190e+02, 6.750e+02, 1.765e+03, 2.629e+03,\n",
       "        2.113e+03, 1.212e+03, 5.550e+02, 3.140e+02, 2.080e+02, 1.220e+02,\n",
       "        7.600e+01, 4.900e+01, 3.700e+01, 3.300e+01, 1.400e+01, 1.500e+01,\n",
       "        1.200e+01, 9.000e+00, 7.000e+00, 5.000e+00, 7.000e+00, 0.000e+00,\n",
       "        5.000e+00, 4.000e+00, 0.000e+00, 2.000e+00, 0.000e+00, 2.000e+00,\n",
       "        0.000e+00, 1.000e+00, 0.000e+00, 0.000e+00, 0.000e+00, 0.000e+00,\n",
       "        0.000e+00, 0.000e+00, 0.000e+00, 0.000e+00, 0.000e+00, 0.000e+00,\n",
       "        0.000e+00, 0.000e+00, 0.000e+00, 1.000e+00, 0.000e+00, 0.000e+00,\n",
       "        0.000e+00, 1.000e+00]),\n",
       " array([-0.0143088 , -0.01060076, -0.00689271, -0.00318466,  0.00052338,\n",
       "         0.00423143,  0.00793947,  0.01164752,  0.01535557,  0.01906361,\n",
       "         0.02277166,  0.0264797 ,  0.03018775,  0.03389579,  0.03760384,\n",
       "         0.04131189,  0.04501993,  0.04872798,  0.05243602,  0.05614407,\n",
       "         0.05985212,  0.06356017,  0.06726821,  0.07097626,  0.0746843 ,\n",
       "         0.07839235,  0.08210039,  0.08580844,  0.08951648,  0.09322453,\n",
       "         0.09693258,  0.10064062,  0.10434867,  0.10805672,  0.11176476,\n",
       "         0.11547281,  0.11918085,  0.1228889 ,  0.12659694,  0.13030499,\n",
       "         0.13401304,  0.13772108,  0.14142913,  0.14513718,  0.14884523,\n",
       "         0.15255326,  0.15626131,  0.15996936,  0.16367741,  0.16738544,\n",
       "         0.1710935 ], dtype=float32),\n",
       " <BarContainer object of 50 artists>)"
      ]
     },
     "execution_count": 309,
     "metadata": {},
     "output_type": "execute_result"
    },
    {
     "data": {
      "image/png": "[encoded data removed]",
      "text/plain": [
       "<Figure size 432x288 with 1 Axes>"
      ]
     },
     "metadata": {
      "needs_background": "light"
     },
     "output_type": "display_data"
    }
   ],
   "source": [
    "plt.hist(blur.mean(axis=(1,2,3))/blur.max(axis=(1,2,3)),bins=50)"
   ]
  },
  {
   "cell_type": "code",
   "execution_count": 310,
   "metadata": {},
   "outputs": [
    {
     "data": {
      "text/plain": [
       "(array([2984., 4849.,  806.,  314.,  206.,  160.,   99.,   72.,   54.,\n",
       "          41.]),\n",
       " array([ 0.,  2.,  4.,  6.,  8., 10., 12., 14., 16., 18., 20.],\n",
       "       dtype=float32),\n",
       " <BarContainer object of 10 artists>)"
      ]
     },
     "execution_count": 310,
     "metadata": {},
     "output_type": "execute_result"
    },
    {
     "data": {
      "image/png": "[encoded data removed]",
      "text/plain": [
       "<Figure size 432x288 with 1 Axes>"
      ]
     },
     "metadata": {
      "needs_background": "light"
     },
     "output_type": "display_data"
    }
   ],
   "source": [
    "plt.hist(np.max(blur,axis=(1,2,3)),range=(0,20))"
   ]
  },
  {
   "cell_type": "code",
   "execution_count": 311,
   "metadata": {},
   "outputs": [
    {
     "name": "stdout",
     "output_type": "stream",
     "text": [
      "(4671, 3, 35, 35)\n"
     ]
    }
   ],
   "source": [
    "blur_input=[]\n",
    "true_input = []\n",
    "kernel_input = []\n",
    "for ck,ct,cb in zip(kernel, true, blur):\n",
    "    siglevel = np.sort(cb)[-30:].mean()\n",
    "    if (siglevel<0.02):\n",
    "        continue\n",
    "    blr = (2.5+cb)/siglevel*0.003\n",
    "    tre = ct/siglevel*0.003\n",
    "    #blr [blr<0]=0\n",
    "    #blr [blr>1]=1.0\n",
    "    blur_input.append(blr)\n",
    "    kernel_input.append(ck)\n",
    "    true_input.append(tre)\n",
    "blur_input = np.array(blur_input)\n",
    "kernel_input = np.array(kernel_input)\n",
    "true_input = np.array(true_input)\n",
    "print (blur_input.shape)"
   ]
  },
  {
   "cell_type": "code",
   "execution_count": 312,
   "metadata": {},
   "outputs": [
    {
     "data": {
      "image/png": "[encoded data removed]",
      "text/plain": [
       "<Figure size 432x288 with 1 Axes>"
      ]
     },
     "metadata": {
      "needs_background": "light"
     },
     "output_type": "display_data"
    }
   ],
   "source": [
    "plt.hist(blur_input.min(axis=(1,2,3)),bins=30)\n",
    "_=plt.hist(blur_input.max(axis=(1,2,3)),bins=30)"
   ]
  },
  {
   "cell_type": "code",
   "execution_count": 313,
   "metadata": {},
   "outputs": [
    {
     "data": {
      "image/png": "[encoded data removed]",
      "text/plain": [
       "<Figure size 432x288 with 1 Axes>"
      ]
     },
     "metadata": {
      "needs_background": "light"
     },
     "output_type": "display_data"
    }
   ],
   "source": [
    "plt.hist(true_input.min(axis=(1,2,3)),bins=30)\n",
    "_=plt.hist(true_input.max(axis=(1,2,3)),bins=30)"
   ]
  },
  {
   "cell_type": "code",
   "execution_count": 314,
   "metadata": {},
   "outputs": [
    {
     "data": {
      "text/plain": [
       "<matplotlib.colorbar.Colorbar at 0x7fb2315f70a0>"
      ]
     },
     "execution_count": 314,
     "metadata": {},
     "output_type": "execute_result"
    },
    {
     "data": {
      "image/png": "[encoded data removed]",
      "text/plain": [
       "<Figure size 432x288 with 2 Axes>"
      ]
     },
     "metadata": {
      "needs_background": "light"
     },
     "output_type": "display_data"
    }
   ],
   "source": [
    "plt.imshow(true_input[300,2,:,:].T)\n",
    "plt.colorbar()"
   ]
  },
  {
   "cell_type": "code",
   "execution_count": 315,
   "metadata": {},
   "outputs": [],
   "source": [
    "blur_input = np.transpose(blur_input, axes=(0,2,3,1))\n",
    "true_input = np.transpose(true_input, axes=(0,2,3,1))\n",
    "kernel_input = np.transpose(kernel, axes=(0,2,3,1))\n",
    "\n"
   ]
  },
  {
   "cell_type": "code",
   "execution_count": 6,
   "metadata": {},
   "outputs": [
    {
     "data": {
      "text/plain": [
       "array([1.       , 1.022828 , 1.       , ..., 1.       , 1.0754551,\n",
       "       1.0585397], dtype=float32)"
      ]
     },
     "execution_count": 6,
     "metadata": {},
     "output_type": "execute_result"
    }
   ],
   "source": []
  },
  {
   "cell_type": "code",
   "execution_count": null,
   "metadata": {},
   "outputs": [],
   "source": []
  }
 ],
 "metadata": {
  "kernelspec": {
   "display_name": "Python 3",
   "language": "python",
   "name": "python3"
  },
  "language_info": {
   "codemirror_mode": {
    "name": "ipython",
    "version": 3
   },
   "file_extension": ".py",
   "mimetype": "text/x-python",
   "name": "python",
   "nbconvert_exporter": "python",
   "pygments_lexer": "ipython3",
   "version": "3.8.5"
  }
 },
 "nbformat": 4,
 "nbformat_minor": 4
}
